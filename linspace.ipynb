# function to create a linspace with user-defined start and stop points

def linspace(start, end, numpoints):
    points = [start]
    numpoints = int(numpoints)
    if numpoints==1:
        points.append(end)
        return points
    else:
        step = (end-start)/(numpoints)
        for i in range(1,numpoints+1):
            points.append(start+step*i)
    return points
        
linspace(0, 1, 10) # returns list of values from 0 to 1 with stepsize of 0.1.
