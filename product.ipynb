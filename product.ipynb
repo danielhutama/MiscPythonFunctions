def product(mylist):
    p = 1
    for i in mylist:
        p *= i
    return p
